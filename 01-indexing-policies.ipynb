{
 "cells": [
  {
   "cell_type": "code",
   "execution_count": 3,
   "metadata": {},
   "outputs": [
    {
     "name": "stdout",
     "output_type": "stream",
     "text": [
      "Directory changed to /Users/marcjimz/Documents/Development/gbb-ai-hls-factory-prior-auth\n"
     ]
    }
   ],
   "source": [
    "import os\n",
    "\n",
    "# Define the target directory\n",
    "target_directory = os.getcwd()  # change your directory here\n",
    "\n",
    "# Check if the directory exists\n",
    "if os.path.exists(target_directory):\n",
    "    # Change the current working directory\n",
    "    os.chdir(target_directory)\n",
    "    print(f\"Directory changed to {os.getcwd()}\")\n",
    "else:\n",
    "    print(f\"Directory {target_directory} does not exist.\")"
   ]
  },
  {
   "cell_type": "markdown",
   "metadata": {},
   "source": [
    "## Instantiate the PolicyIndexingPipeline Class\n",
    "\n",
    "Settings for running the pipeline are in `src\\pipeline\\policyIndexer\\settings.yaml`.\n",
    "\n",
    "The PolicyIndexingPipeline automates the process of indexing policy documents into Azure AI Search."
   ]
  },
  {
   "cell_type": "code",
   "execution_count": 4,
   "metadata": {},
   "outputs": [],
   "source": [
    "from src.pipeline.policyIndexer.run import PolicyIndexingPipeline"
   ]
  },
  {
   "cell_type": "code",
   "execution_count": 11,
   "metadata": {},
   "outputs": [],
   "source": [
    "indexer = PolicyIndexingPipeline()"
   ]
  },
  {
   "cell_type": "markdown",
   "metadata": {},
   "source": [
    "## Upload Document to Landing Zone Blob Storage"
   ]
  },
  {
   "cell_type": "code",
   "execution_count": 12,
   "metadata": {},
   "outputs": [],
   "source": [
    "## TODO: ALLOW KEY BASED AUTHENTICATION"
   ]
  },
  {
   "cell_type": "code",
   "execution_count": 5,
   "metadata": {},
   "outputs": [
    {
     "name": "stderr",
     "output_type": "stream",
     "text": [
      "2024-12-10 21:14:15,404 - micro - MainProcess - INFO     Uploaded utils/data/cases/policies/001.pdf to policies_ocr/001.pdf (run.py:upload_documents:161)\n",
      "2024-12-10 21:14:15,606 - micro - MainProcess - INFO     Uploaded utils/data/cases/policies/003.pdf to policies_ocr/003.pdf (run.py:upload_documents:161)\n",
      "2024-12-10 21:14:15,818 - micro - MainProcess - INFO     Uploaded utils/data/cases/policies/002.pdf to policies_ocr/002.pdf (run.py:upload_documents:161)\n",
      "2024-12-10 21:14:16,157 - micro - MainProcess - INFO     Uploaded utils/data/cases/policies/005.pdf to policies_ocr/005.pdf (run.py:upload_documents:161)\n",
      "2024-12-10 21:14:16,705 - micro - MainProcess - INFO     Uploaded utils/data/cases/policies/004.pdf to policies_ocr/004.pdf (run.py:upload_documents:161)\n"
     ]
    }
   ],
   "source": [
    "indexer.upload_documents(local_path=\"utils/data/cases/policies\")"
   ]
  },
  {
   "cell_type": "markdown",
   "metadata": {},
   "source": [
    "## Create Data Source (Connect Blob)"
   ]
  },
  {
   "cell_type": "code",
   "execution_count": 13,
   "metadata": {},
   "outputs": [
    {
     "name": "stderr",
     "output_type": "stream",
     "text": [
      "2024-12-10 21:21:26,080 - micro - MainProcess - INFO     Data source 'ai-policies-blob' created or updated (run.py:create_data_source:186)\n"
     ]
    }
   ],
   "source": [
    "indexer.create_data_source()"
   ]
  },
  {
   "cell_type": "markdown",
   "metadata": {},
   "source": [
    "## Create Index "
   ]
  },
  {
   "cell_type": "code",
   "execution_count": 14,
   "metadata": {},
   "outputs": [
    {
     "name": "stderr",
     "output_type": "stream",
     "text": [
      "2024-12-10 21:21:31,338 - micro - MainProcess - INFO     Index 'ai-policies-index' created or updated successfully. (run.py:create_index:312)\n"
     ]
    }
   ],
   "source": [
    "indexer.create_index()"
   ]
  },
  {
   "cell_type": "markdown",
   "metadata": {},
   "source": [
    "## Creare Skillset"
   ]
  },
  {
   "cell_type": "code",
   "execution_count": 15,
   "metadata": {},
   "outputs": [
    {
     "name": "stderr",
     "output_type": "stream",
     "text": [
      "2024-12-10 21:21:33,937 - micro - MainProcess - INFO     Skillset 'ai-policies-skillset' created or updated (run.py:create_skillset:530)\n"
     ]
    }
   ],
   "source": [
    "indexer.create_skillset()"
   ]
  },
  {
   "cell_type": "markdown",
   "metadata": {},
   "source": [
    "## Create Indexer"
   ]
  },
  {
   "cell_type": "code",
   "execution_count": 16,
   "metadata": {},
   "outputs": [
    {
     "name": "stderr",
     "output_type": "stream",
     "text": [
      "2024-12-10 21:21:46,767 - micro - MainProcess - INFO     Indexer 'ai-policies-indexer' created or updated (run.py:create_indexer:564)\n"
     ]
    }
   ],
   "source": [
    "indexer.create_indexer()"
   ]
  },
  {
   "cell_type": "markdown",
   "metadata": {},
   "source": [
    "## Create Run Indexer "
   ]
  },
  {
   "cell_type": "code",
   "execution_count": 17,
   "metadata": {},
   "outputs": [],
   "source": [
    "from src.pipeline.policyIndexer.run import IndexerRunner"
   ]
  },
  {
   "cell_type": "code",
   "execution_count": 18,
   "metadata": {},
   "outputs": [],
   "source": [
    "indexer = IndexerRunner(indexer_name=\"ai-policies-indexer\")"
   ]
  },
  {
   "cell_type": "code",
   "execution_count": 23,
   "metadata": {},
   "outputs": [
    {
     "name": "stderr",
     "output_type": "stream",
     "text": [
      "2024-12-10 21:24:21,866 - micro - MainProcess - INFO     Indexer 'ai-policies-indexer' has been started. (run.py:run_indexer:636)\n",
      "2024-12-10 21:24:22,079 - micro - MainProcess - INFO     Indexer Status: running (run.py:monitor_indexer_status:680)\n",
      "2024-12-10 21:24:22,079 - micro - MainProcess - INFO     Last Run Time: 2024-12-11 04:23:03.859000+00:00 (run.py:monitor_indexer_status:681)\n",
      "2024-12-10 21:24:22,080 - micro - MainProcess - INFO     Execution Status: success (run.py:monitor_indexer_status:682)\n",
      "2024-12-10 21:24:22,080 - micro - MainProcess - INFO     Indexer 'ai-policies-indexer' completed successfully. (run.py:monitor_indexer_status:690)\n"
     ]
    }
   ],
   "source": [
    "indexer.monitor_indexer_status()"
   ]
  },
  {
   "cell_type": "markdown",
   "metadata": {},
   "source": [
    "## Test Search "
   ]
  },
  {
   "cell_type": "code",
   "execution_count": null,
   "metadata": {},
   "outputs": [],
   "source": [
    "from azure.search.documents import SearchClient\n",
    "from azure.search.documents.models import VectorizableTextQuery\n",
    "from azure.core.credentials import AzureKeyCredential\n",
    "from azure.identity import DefaultAzureCredential\n",
    "\n",
    "credential = (\n",
    "    AzureKeyCredential(os.getenv(\"AZURE_AI_SEARCH_ADMIN_KEY\"))\n",
    "    if os.getenv(\"AZURE_AI_SEARCH_ADMIN_KEY\")\n",
    "    else DefaultAzureCredential()\n",
    ")\n",
    "index_name = os.getenv(\"AZURE_AI_SEARCH_INDEX_NAME\", \"ai-policies-index\")\n",
    "\n",
    "\n",
    "search_client = SearchClient(\n",
    "    endpoint=os.environ[\"AZURE_AI_SEARCH_SERVICE_ENDPOINT\"],\n",
    "    index_name=index_name,\n",
    "    credential=AzureKeyCredential(os.environ[\"AZURE_AI_SEARCH_ADMIN_KEY\"]),\n",
    ")"
   ]
  },
  {
   "cell_type": "code",
   "execution_count": 25,
   "metadata": {},
   "outputs": [],
   "source": [
    "SEARCH_QUERY = \"afiniitor therapy\""
   ]
  },
  {
   "cell_type": "code",
   "execution_count": 26,
   "metadata": {},
   "outputs": [],
   "source": [
    "vector_query = VectorizableTextQuery(\n",
    "    text=SEARCH_QUERY, k_nearest_neighbors=5, fields=\"vector\", weight=0.5\n",
    ")"
   ]
  },
  {
   "cell_type": "code",
   "execution_count": 27,
   "metadata": {},
   "outputs": [
    {
     "name": "stdout",
     "output_type": "stream",
     "text": [
      "========================================\n",
      "ID: 0b3177cacab8_aHR0cHM6Ly9zdG9yYWdlcHJpb3JhdXRoamd1MnAybi5ibG9iLmNvcmUud2luZG93cy5uZXQvcHJlLWF1dGgtcG9saWNpZXMvcG9saWNpZXNfb2NyLzAwNS5wZGY1_normalized_images_10_pages_0\n",
      "Reranker Score: 2.7419040203094482\n",
      "Source_doc_path: https://storagepriorauthjgu2p2n.blob.core.windows.net/pre-auth-policies/policies_ocr/005.pdf\n",
      "Content: UnitedHealthcare® (2) Presence of phosphatidylinositol-4,5-bisphosphate 3-kinase catalytic subunit alpha (PIK3CA) mutation Authorization will be issued for 12 months. 2. Reauthorization a. Afinitor will be approved based on the following criterion: (1) Patient does not show evidence of progressive disease while on Afinitor therapy Authorization will be issued for 12 months. Q. Gastrointestingal Stromal Tumor (GIST) 1. Initial Authorization a. Afinitor will be approved based on all of the followi...\n",
      "Caption: <em>Afinitor will be approved </em>based on the following criterion: (1)<em> Patient does not show evidence of progressive disease </em>while on<em> Afinitor therapy Authorization </em>will be issued for<em> 12 months.</em>  ...fter single agent therapy with all of the following: (a) Imatinib (Gleevec) (b) Sutent (sunitinib) (c) Stivarga (regorafenib) (d) Qinlock (ripretinib) -AND-.\n",
      "========================================\n",
      "========================================\n",
      "ID: 0b3177cacab8_aHR0cHM6Ly9zdG9yYWdlcHJpb3JhdXRoamd1MnAybi5ibG9iLmNvcmUud2luZG93cy5uZXQvcHJlLWF1dGgtcG9saWNpZXMvcG9saWNpZXNfb2NyLzAwNS5wZGY1_normalized_images_5_pages_0\n",
      "Reranker Score: 2.6646296977996826\n",
      "Source_doc_path: https://storagepriorauthjgu2p2n.blob.core.windows.net/pre-auth-policies/policies_ocr/005.pdf\n",
      "Content: UnitedHealthcare® (a) Exemestane if progressed within 12 months or on a non-steroidal aromatase inhibitor [e.g ., Arimidex (anastrozole), Femara (letrozole)] (b) Fulvestrant (c) Tamoxifen Authorization will be issued for 12 months. 2. Reauthorization a. Afinitor will be approved based on the following criterion: (1) Patient does not show evidence of progressive disease while on Afinitor therapy Authorization will be issued for 12 months. H. Hodgkin Lymphoma 1. Initial Authorization a. Afinitor w...\n",
      "Caption: <em>Afinitor </em>will be<em> approved </em>based on the following criterion: (1) Patient<em> does not show evidence of progressive disease </em>while on<em> Afinitor therapy Authorization </em>will be issued for<em> 12 months.</em> <em>Afinitor </em>will<em> be approved </em>based on both of the following criteria: (1)<em> Diagnosis of </em>classic<em> Hodgkin lymphoma </em>-AND- (2) Disease is refractory to at least 3 prior.\n",
      "========================================\n",
      "========================================\n",
      "ID: 0b3177cacab8_aHR0cHM6Ly9zdG9yYWdlcHJpb3JhdXRoamd1MnAybi5ibG9iLmNvcmUud2luZG93cy5uZXQvcHJlLWF1dGgtcG9saWNpZXMvcG9saWNpZXNfb2NyLzAwNS5wZGY1_normalized_images_8_pages_0\n",
      "Reranker Score: 2.6422979831695557\n",
      "Source_doc_path: https://storagepriorauthjgu2p2n.blob.core.windows.net/pre-auth-policies/policies_ocr/005.pdf\n",
      "Content: UnitedHealthcare® Authorization will be issued for 12 months. 2. Reauthorization a. Afinitor will be approved based on the following criterion: (1) Patient does not show evidence of progressive disease while on Afinitor therapy Authorization will be issued for 12 months. M. Endometrial Carcinoma 1. Initial Authorization a. Afinitor will be approved based on all of the following criteria: (1) Diagnosis of endometrial carcinoma -AND- (2) Used in combination with letrozole Authorization will be iss...\n",
      "Caption: Afinitor will be approved based on the following criterion: (1) Patient does not show evidence of progressive disease while on Afinitor therapy Authorization will be issued for 12 months.  ... of progressive disease while on Afinitor therapy Authorization will be issued for 12 monthsAfinitor will be approved based on both of the following.\n",
      "========================================\n",
      "========================================\n",
      "ID: 0b3177cacab8_aHR0cHM6Ly9zdG9yYWdlcHJpb3JhdXRoamd1MnAybi5ibG9iLmNvcmUud2luZG93cy5uZXQvcHJlLWF1dGgtcG9saWNpZXMvcG9saWNpZXNfb2NyLzAwNS5wZGY1_normalized_images_6_pages_0\n",
      "Reranker Score: 2.621384382247925\n",
      "Source_doc_path: https://storagepriorauthjgu2p2n.blob.core.windows.net/pre-auth-policies/policies_ocr/005.pdf\n",
      "Content: UnitedHealthcare® 2. Reauthorization a. Afinitor will be approved based on the following criterion: (1) Patient does not show evidence of progressive disease while on Afinitor therapy Authorization will be issued for 12 months. J. Thymomas and Thymic Carcinomas 1. Initial Authorization a. Afinitor will be approved based on both of the following criteria: (1) One of the following: (a) Diagnosis of thymic carcinoma (b) Diagnosis of thymoma -AND- (2) One of the following: (a) First-line therapy as ...\n",
      "Caption: ...g criterion: (1) P does not show evidence of progressive disease while on Afinitor therapy Authorization will be issued for 12 monthsAfinitor will be approved based on both of the following criteria: (1) One of the following: (a) Diagnosis of thymic carcinoma (b) Diagnosis of thymoma -AND- (2) One of the following: (a) First-line therapy as a.\n",
      "========================================\n",
      "========================================\n",
      "ID: 0b3177cacab8_aHR0cHM6Ly9zdG9yYWdlcHJpb3JhdXRoamd1MnAybi5ibG9iLmNvcmUud2luZG93cy5uZXQvcHJlLWF1dGgtcG9saWNpZXMvcG9saWNpZXNfb2NyLzAwNS5wZGY1_normalized_images_11_pages_0\n",
      "Reranker Score: 2.609686851501465\n",
      "Source_doc_path: https://storagepriorauthjgu2p2n.blob.core.windows.net/pre-auth-policies/policies_ocr/005.pdf\n",
      "Content: UnitedHealthcare® 2. Reauthorization a. Afinitor will be approved based on the following criterion: (1) Patient does not show evidence of progressive disease while on Afinitor therapy Authorization will be issued for 12 months. R. NCCN Recommended Regimens The drug has been recognized for treatment of the cancer indication by The National Comprehensive Cancer Network (NCCN) Drugs and Biologics Compendium with a Category of Evidence and Consensus of 1, 2A, or 2B Authorization will be issued for 1...\n",
      "Caption: UnitedHealthcare® 2. Reauthorization a. <em>Afinitor will be approved </em>based on the following criterion: (1) Patient does not show evidence of<em> progressive disease </em>while on<em> Afinitor therapy Authorization </em>will be<em> issued for 12 months.</em> NCCN Recommended Regimens The drug has been recognized for treatment of the cancer indication by The National.\n",
      "========================================\n"
     ]
    }
   ],
   "source": [
    "from azure.search.documents.models import QueryType, QueryCaptionType, QueryAnswerType\n",
    "\n",
    "results = search_client.search(\n",
    "    search_text=SEARCH_QUERY,\n",
    "    vector_queries=[vector_query],\n",
    "    query_type=QueryType.SEMANTIC,\n",
    "    semantic_configuration_name=\"my-semantic-config\",\n",
    "    query_caption=QueryCaptionType.EXTRACTIVE,\n",
    "    query_answer=QueryAnswerType.EXTRACTIVE,\n",
    "    top=5,\n",
    ")\n",
    "\n",
    "for result in results:\n",
    "    print(\"=\" * 40)\n",
    "    print(f\"ID: {result['chunk_id']}\")\n",
    "    print(f\"Reranker Score: {result['@search.reranker_score']}\")\n",
    "    print(f\"Source_doc_path: {result['parent_path']}\")\n",
    "    content = (\n",
    "        result[\"chunk\"][:500] + \"...\" if len(result[\"chunk\"]) > 500 else result[\"chunk\"]\n",
    "    )\n",
    "    print(f\"Content: {content}\")\n",
    "\n",
    "    captions = result.get(\"@search.captions\", [])\n",
    "    if captions:\n",
    "        caption = captions[0]\n",
    "        if caption.highlights:\n",
    "            print(f\"Caption: {caption.highlights}\")\n",
    "        else:\n",
    "            print(f\"Caption: {caption.text}\")\n",
    "    print(\"=\" * 40)"
   ]
  }
 ],
 "metadata": {
  "kernelspec": {
   "display_name": "pa-ai-env",
   "language": "python",
   "name": "python3"
  },
  "language_info": {
   "codemirror_mode": {
    "name": "ipython",
    "version": 3
   },
   "file_extension": ".py",
   "mimetype": "text/x-python",
   "name": "python",
   "nbconvert_exporter": "python",
   "pygments_lexer": "ipython3",
   "version": "3.10.15"
  }
 },
 "nbformat": 4,
 "nbformat_minor": 2
}
